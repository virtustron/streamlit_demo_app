{
 "cells": [
  {
   "cell_type": "code",
   "execution_count": 14,
   "metadata": {},
   "outputs": [
    {
     "name": "stdout",
     "output_type": "stream",
     "text": [
      "WARNING:tensorflow:No training configuration found in save file, so the model was *not* compiled. Compile it manually.\n",
      "airliner 0.4753185\n",
      "wing 0.060000997\n",
      "warplane 0.035833955\n"
     ]
    }
   ],
   "source": [
    "from tensorflow.keras.applications import EfficientNetB0\n",
    "from tensorflow.keras.preprocessing import image\n",
    "from tensorflow.keras.applications.efficientnet import preprocess_input\n",
    "from tensorflow.keras.applications.efficientnet import decode_predictions\n",
    "import numpy as np\n",
    "\n",
    "# Загружаем предварительно обученную модель EfficientNetB0\n",
    "model = EfficientNetB0(weights='imagenet')\n",
    "\n",
    "#import pickle\n",
    "#model = pickle.load(open('ml_model.sav', 'rb'));\n",
    "\n",
    "model = keras.models.load_model('ml_model.pkl')\n",
    "\n",
    "\n",
    "\n",
    "# Прописываем путь к файлу с изображением\n",
    "img_path = 'plane.jpg'\n",
    "# Загружаем изображение в память\n",
    "# EfficientNetB0 рассчитана на изображения размером 224х224\n",
    "img = image.load_img(img_path, target_size=(224, 224))\n",
    "# Выполняем предварительную обработку изображения\n",
    "x = image.img_to_array(img)\n",
    "x = np.expand_dims(x, axis=0)\n",
    "x = preprocess_input(x)\n",
    "# Запускаем распознавание\n",
    "preds = model.predict(x)\n",
    "# Печатаем ТОП-3 класса с самой большой вероятностью\n",
    "classes = decode_predictions(preds, top=3)[0]\n",
    "for cl in classes:\n",
    "    print(cl[1], cl[2])"
   ]
  },
  {
   "cell_type": "code",
   "execution_count": 10,
   "metadata": {},
   "outputs": [
    {
     "name": "stdout",
     "output_type": "stream",
     "text": [
      "WARNING:tensorflow:Compiled the loaded model, but the compiled metrics have yet to be built. `model.compile_metrics` will be empty until you train or evaluate the model.\n",
      "INFO:tensorflow:Assets written to: ml_model.pkl\\assets\n"
     ]
    }
   ],
   "source": [
    "#import pickle\n",
    "#pickle.dump(model, open('ml_model.pkl', 'wb'));\n",
    "\n",
    "model.save('ml_model.pkl');"
   ]
  },
  {
   "cell_type": "code",
   "execution_count": 13,
   "metadata": {},
   "outputs": [
    {
     "name": "stdout",
     "output_type": "stream",
     "text": [
      "WARNING:tensorflow:No training configuration found in save file, so the model was *not* compiled. Compile it manually.\n"
     ]
    }
   ],
   "source": [
    "#model = pickle.load(open('ml_model.pkl', 'rb'));\n",
    "import keras\n",
    "model = keras.models.load_model('ml_model.pkl')"
   ]
  }
 ],
 "metadata": {
  "interpreter": {
   "hash": "ad2bdc8ecc057115af97d19610ffacc2b4e99fae6737bb82f5d7fb13d2f2c186"
  },
  "kernelspec": {
   "display_name": "Python 3.7.10 ('base')",
   "language": "python",
   "name": "python3"
  },
  "language_info": {
   "codemirror_mode": {
    "name": "ipython",
    "version": 3
   },
   "file_extension": ".py",
   "mimetype": "text/x-python",
   "name": "python",
   "nbconvert_exporter": "python",
   "pygments_lexer": "ipython3",
   "version": "3.7.10"
  },
  "orig_nbformat": 4
 },
 "nbformat": 4,
 "nbformat_minor": 2
}
